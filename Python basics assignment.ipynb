{
 "cells": [
  {
   "cell_type": "code",
   "execution_count": 17,
   "id": "052044e7-167f-45de-9c16-55f0d20fc9c7",
   "metadata": {},
   "outputs": [],
   "source": [
    "#Explain the key features of Python that make it a popular choice for programming"
   ]
  },
  {
   "cell_type": "code",
   "execution_count": null,
   "id": "585633b5-9daa-4d03-945a-63b03af0d3d5",
   "metadata": {},
   "outputs": [],
   "source": [
    "#Python is high leval programming language,yet it is effortless to learn,easy to read,\n",
    ",it has standard library,easy to code,free and open source, extensible that's why python\n",
    "is popular choice for programming"
   ]
  },
  {
   "cell_type": "code",
   "execution_count": null,
   "id": "766671a5-b83f-4a5c-97f8-580c269581f5",
   "metadata": {},
   "outputs": [],
   "source": [
    "#Describe the role of predefined keywords in Python and provide examples of how they are used in a program"
   ]
  },
  {
   "cell_type": "code",
   "execution_count": null,
   "id": "44d18370-2a40-4213-92ae-94758ea428ac",
   "metadata": {},
   "outputs": [],
   "source": [
    "#keywords in python are predefined words variable and function names are predefined key words#words#purpose of it\n",
    "to define the syntex of the code"
   ]
  },
  {
   "cell_type": "code",
   "execution_count": 2,
   "id": "990308ab-4313-4aea-829c-0d455a587455",
   "metadata": {},
   "outputs": [
    {
     "name": "stdout",
     "output_type": "stream",
     "text": [
      "Hello world\n"
     ]
    }
   ],
   "source": [
    "print(\"Hello world\")"
   ]
  },
  {
   "cell_type": "code",
   "execution_count": 3,
   "id": "90b28b16-8e96-4e9d-abdc-f28ee6908476",
   "metadata": {},
   "outputs": [
    {
     "data": {
      "text/plain": [
       "int"
      ]
     },
     "execution_count": 3,
     "metadata": {},
     "output_type": "execute_result"
    }
   ],
   "source": [
    "a = 3\n",
    "a\n",
    "type(a)"
   ]
  },
  {
   "cell_type": "code",
   "execution_count": 8,
   "id": "333f3585-fb91-4ef2-929a-3800e0080ae4",
   "metadata": {},
   "outputs": [],
   "source": [
    "#Compare and contrast mutable and immutable objects in Python with examples"
   ]
  },
  {
   "cell_type": "code",
   "execution_count": null,
   "id": "63d38f21-7713-4bbf-b574-80386597283f",
   "metadata": {},
   "outputs": [],
   "source": [
    "#In python some mutable object like list and set and iimmutable objects like string and tuple over there"
   ]
  },
  {
   "cell_type": "code",
   "execution_count": 4,
   "id": "129c7bd0-4c12-4003-8c5b-be11cd99b990",
   "metadata": {},
   "outputs": [
    {
     "data": {
      "text/plain": [
       "[1, 3, 2.4, 'riya']"
      ]
     },
     "execution_count": 4,
     "metadata": {},
     "output_type": "execute_result"
    }
   ],
   "source": [
    "list_count = [1,3,2.4,\"riya\"]\n",
    "list_count"
   ]
  },
  {
   "cell_type": "code",
   "execution_count": 6,
   "id": "77108c23-7111-480c-b215-24f848291198",
   "metadata": {},
   "outputs": [
    {
     "data": {
      "text/plain": [
       "'riya'"
      ]
     },
     "execution_count": 6,
     "metadata": {},
     "output_type": "execute_result"
    }
   ],
   "source": [
    "list_count[3]"
   ]
  },
  {
   "cell_type": "code",
   "execution_count": 7,
   "id": "dce8b9fa-7a65-46b7-8ad8-8255ca7dce4c",
   "metadata": {},
   "outputs": [
    {
     "data": {
      "text/plain": [
       "[1, 3, 2.4, 'meera']"
      ]
     },
     "execution_count": 7,
     "metadata": {},
     "output_type": "execute_result"
    }
   ],
   "source": [
    "list_count[3] = \"meera\"\n",
    "list_count#mutable "
   ]
  },
  {
   "cell_type": "code",
   "execution_count": 9,
   "id": "1c7f211c-b12e-4fc6-a05e-068269f203db",
   "metadata": {},
   "outputs": [
    {
     "data": {
      "text/plain": [
       "str"
      ]
     },
     "execution_count": 9,
     "metadata": {},
     "output_type": "execute_result"
    }
   ],
   "source": [
    "a = \"Hello world \"\n",
    "type(a)"
   ]
  },
  {
   "cell_type": "code",
   "execution_count": 11,
   "id": "9408d631-9a32-460b-be26-5adad41f518c",
   "metadata": {},
   "outputs": [
    {
     "data": {
      "text/plain": [
       "'H'"
      ]
     },
     "execution_count": 11,
     "metadata": {},
     "output_type": "execute_result"
    }
   ],
   "source": [
    "a[0]"
   ]
  },
  {
   "cell_type": "code",
   "execution_count": 19,
   "id": "9e3b639f-d63d-4dc1-9210-c6d853310709",
   "metadata": {},
   "outputs": [
    {
     "ename": "TypeError",
     "evalue": "'str' object does not support item assignment",
     "output_type": "error",
     "traceback": [
      "\u001b[0;31m---------------------------------------------------------------------------\u001b[0m",
      "\u001b[0;31mTypeError\u001b[0m                                 Traceback (most recent call last)",
      "Cell \u001b[0;32mIn[19], line 1\u001b[0m\n\u001b[0;32m----> 1\u001b[0m \u001b[43ma\u001b[49m\u001b[43m[\u001b[49m\u001b[38;5;241;43m0\u001b[39;49m\u001b[43m]\u001b[49m \u001b[38;5;241m=\u001b[39m \u001b[38;5;124m\"\u001b[39m\u001b[38;5;124mD\u001b[39m\u001b[38;5;124m\"\u001b[39m\n\u001b[1;32m      2\u001b[0m a\u001b[38;5;66;03m#immutable \u001b[39;00m\n",
      "\u001b[0;31mTypeError\u001b[0m: 'str' object does not support item assignment"
     ]
    }
   ],
   "source": [
    "a[0] = \"D\"\n",
    "a#immutable "
   ]
  },
  {
   "cell_type": "code",
   "execution_count": null,
   "id": "1c4a245e-3714-4560-b51c-d903b1a8ca29",
   "metadata": {},
   "outputs": [],
   "source": [
    "# 4. Discuss the different types of operators in Python and provide examples of how they are used"
   ]
  },
  {
   "cell_type": "code",
   "execution_count": null,
   "id": "6c8a80e5-19e1-4f20-8ed5-35dffc1e5f6e",
   "metadata": {},
   "outputs": [],
   "source": [
    " # python has 7 type of operators as shown below⁸"
   ]
  },
  {
   "cell_type": "code",
   "execution_count": 20,
   "id": "dcb4cccf-2492-4997-bd6c-f9bece921188",
   "metadata": {},
   "outputs": [
    {
     "name": "stdout",
     "output_type": "stream",
     "text": [
      "9\n"
     ]
    }
   ],
   "source": [
    "#Arithmetic operators\n",
    "a = 5\n",
    "b = 4\n",
    "print(int(a+b))"
   ]
  },
  {
   "cell_type": "code",
   "execution_count": null,
   "id": "b777cf1f-b9cb-43f9-b70b-96b49111323b",
   "metadata": {},
   "outputs": [],
   "source": [
    " # comparison operators\n",
    " a = 4\n",
    " b = 5\n",
    " equal = (\"a == b : \",a == b)"
   ]
  },
  {
   "cell_type": "code",
   "execution_count": 21,
   "id": "74940cb0-1155-47df-bce2-bd815a3e1581",
   "metadata": {},
   "outputs": [
    {
     "name": "stdout",
     "output_type": "stream",
     "text": [
      "a += 5: 15\n"
     ]
    }
   ],
   "source": [
    " # Assignment operators\n",
    " a = 10\n",
    " a += 5\n",
    "print(\"a += 5:\",a)"
   ]
  },
  {
   "cell_type": "code",
   "execution_count": 22,
   "id": "3ed8b698-bf6d-4ba8-8cbc-f50b02ceb6aa",
   "metadata": {},
   "outputs": [
    {
     "name": "stdout",
     "output_type": "stream",
     "text": [
      "rice is not for grocery\n"
     ]
    }
   ],
   "source": [
    "\n",
    "\n",
    " # membership operator\n",
    " grocery = [ \"rice\" , \"wheat\", \"millets\" ]\n",
    " if \" rice \" in grocery :\n",
    "    print(\"rice is available in grocery\")\n",
    " else :\n",
    "    print(\"rice is not for grocery\")"
   ]
  },
  {
   "cell_type": "code",
   "execution_count": 23,
   "id": "bea46438-cf6e-4679-bd70-0bfeb6fcb4bc",
   "metadata": {},
   "outputs": [
    {
     "name": "stdout",
     "output_type": "stream",
     "text": [
      "x and y are not the same object\n"
     ]
    }
   ],
   "source": [
    " # identify operator\n",
    " x = 10\n",
    " y  = 5\n",
    " if x is y:\n",
    "    print(\"x and y are the same object\")\n",
    " else:\n",
    "    print(\"x and y are not the same object\")"
   ]
  },
  {
   "cell_type": "code",
   "execution_count": 24,
   "id": "2598043f-f0ae-4c79-947c-d15f478be2f3",
   "metadata": {},
   "outputs": [
    {
     "data": {
      "text/plain": [
       "int"
      ]
     },
     "execution_count": 24,
     "metadata": {},
     "output_type": "execute_result"
    }
   ],
   "source": [
    " # 5.Explain the concept of type casting in Python with examples\n",
    " #This is the process of changing the data type of a value\n",
    " a = 6\n",
    " type(a)"
   ]
  },
  {
   "cell_type": "code",
   "execution_count": 25,
   "id": "82eeabe9-81da-4457-a92b-3832cec9ff2d",
   "metadata": {},
   "outputs": [
    {
     "data": {
      "text/plain": [
       "str"
      ]
     },
     "execution_count": 25,
     "metadata": {},
     "output_type": "execute_result"
    }
   ],
   "source": [
    " a = \"6\"\n",
    "type(a)"
   ]
  },
  {
   "cell_type": "code",
   "execution_count": 26,
   "id": "00ae660d-c3c6-4a1f-b753-aa65b8f5fa02",
   "metadata": {},
   "outputs": [
    {
     "name": "stdout",
     "output_type": "stream",
     "text": [
      "The number is positive.\n"
     ]
    }
   ],
   "source": [
    "#H 6.ow do conditional statements work in Python? Illustrate with examples\n",
    "num = 5\n",
    "\n",
    "if num > 0:\n",
    "    print(\"The number is positive.\")"
   ]
  },
  {
   "cell_type": "code",
   "execution_count": 27,
   "id": "ba51d5b3-731b-48a6-9f86-dc2190fbd9e7",
   "metadata": {},
   "outputs": [
    {
     "name": "stdout",
     "output_type": "stream",
     "text": [
      "1\n",
      "2\n",
      "3\n",
      "4\n"
     ]
    }
   ],
   "source": [
    "# 7.Describe the different types of loops in Python and their use cases with examples.\n",
    "n = 5\n",
    "i = 1\n",
    "while i < n:\n",
    "    print(i)\n",
    "    i = i + 1"
   ]
  },
  {
   "cell_type": "code",
   "execution_count": null,
   "id": "b0086516-252e-4b29-948d-776e69e97d1b",
   "metadata": {},
   "outputs": [],
   "source": []
  }
 ],
 "metadata": {
  "kernelspec": {
   "display_name": "Python 3 (ipykernel)",
   "language": "python",
   "name": "python3"
  },
  "language_info": {
   "codemirror_mode": {
    "name": "ipython",
    "version": 3
   },
   "file_extension": ".py",
   "mimetype": "text/x-python",
   "name": "python",
   "nbconvert_exporter": "python",
   "pygments_lexer": "ipython3",
   "version": "3.10.8"
  }
 },
 "nbformat": 4,
 "nbformat_minor": 5
}
